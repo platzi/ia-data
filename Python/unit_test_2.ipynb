{
 "cells": [
  {
   "cell_type": "code",
   "execution_count": null,
   "metadata": {},
   "outputs": [],
   "source": [
    "def calcular_media(numeros):\n",
    "    return sum(numeros) / len(numeros)"
   ]
  },
  {
   "cell_type": "code",
   "execution_count": null,
   "metadata": {},
   "outputs": [],
   "source": [
    "## genera un script para hacer unit test de la funcion calcular_media\n",
    "\n",
    "def test_calcular_media():\n",
    "    assert calcular_media([1,2,3]) == 2\n",
    "    assert calcular_media([1,2,3,4]) == 2.5\n",
    "    assert calcular_media([1,2,3,4,5]) == 3\n",
    "    assert calcular_media([1,2,3,4,5,6]) == 3.5\n",
    "    assert calcular_media([1,2,3,4,5,6,7]) == 4\n",
    "    assert calcular_media([1,2,3,4,5,6,7,8]) == 4.5\n",
    "    assert calcular_media([1,2,3,4,5,6,7,8,9]) == 5\n",
    "    assert calcular_media([1,2,3,4,5,6,7,8,9,10]) == 5.5\n",
    "\n",
    "test_calcular_media()"
   ]
  },
  {
   "attachments": {},
   "cell_type": "markdown",
   "metadata": {},
   "source": [
    "# ChatGPT"
   ]
  },
  {
   "cell_type": "code",
   "execution_count": 7,
   "metadata": {},
   "outputs": [],
   "source": [
    "import pandas as pd\n",
    "from sklearn.model_selection import train_test_split\n",
    "\n",
    "# Creamos un dataset de prueba\n",
    "data = {\n",
    "    'column1': [1, 2, 3, 4, 5, 6, 7, 8, 9, 10],\n",
    "    'column2': ['a', 'b', 'c', 'd', 'e', 'f', 'g', 'h', 'i', 'j']\n",
    "}\n",
    "df = pd.DataFrame(data)\n"
   ]
  },
  {
   "cell_type": "code",
   "execution_count": 9,
   "metadata": {},
   "outputs": [],
   "source": [
    "def split_data(df, test_size=0.2, random_state=42):\n",
    "    train_df, test_df = train_test_split(df, test_size=test_size, random_state=random_state)\n",
    "    return train_df, test_df\n"
   ]
  },
  {
   "cell_type": "code",
   "execution_count": 11,
   "metadata": {},
   "outputs": [
    {
     "name": "stderr",
     "output_type": "stream",
     "text": [
      "F\n",
      "======================================================================\n",
      "FAIL: test_split_data (__main__.TestSplitData)\n",
      "----------------------------------------------------------------------\n",
      "Traceback (most recent call last):\n",
      "  File \"/tmp/ipykernel_25459/286399358.py\", line 14, in test_split_data\n",
      "    self.assertEqual(len(train), int(0.7*len(df)))\n",
      "AssertionError: 8 != 7\n",
      "\n",
      "----------------------------------------------------------------------\n",
      "Ran 1 test in 0.002s\n",
      "\n",
      "FAILED (failures=1)\n"
     ]
    }
   ],
   "source": [
    "import unittest\n",
    "\n",
    "class TestSplitData(unittest.TestCase):\n",
    "    def test_split_data(self):\n",
    "        train, test = split_data(df, test_size=0.2, random_state=42)\n",
    "        \n",
    "        # Comprobamos que la longitud total es la misma\n",
    "        self.assertEqual(len(df), len(train) + len(test))\n",
    "        \n",
    "        # Comprobamos que el tamaño del test es el esperado (20%)\n",
    "        self.assertEqual(len(test), int(0.2*len(df)))\n",
    "        \n",
    "        # Comprobamos que el tamaño del train es el esperado (80%)\n",
    "        self.assertEqual(len(train), int(0.7*len(df)))\n",
    "\n",
    "if __name__ == '__main__':\n",
    "    unittest.main(argv=['first-arg-is-ignored'], exit=False)\n"
   ]
  }
 ],
 "metadata": {
  "kernelspec": {
   "display_name": "workspace",
   "language": "python",
   "name": "python3"
  },
  "language_info": {
   "codemirror_mode": {
    "name": "ipython",
    "version": 3
   },
   "file_extension": ".py",
   "mimetype": "text/x-python",
   "name": "python",
   "nbconvert_exporter": "python",
   "pygments_lexer": "ipython3",
   "version": "3.9.13"
  },
  "orig_nbformat": 4
 },
 "nbformat": 4,
 "nbformat_minor": 2
}
