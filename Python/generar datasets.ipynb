{
 "cells": [
  {
   "cell_type": "code",
   "execution_count": 16,
   "metadata": {},
   "outputs": [],
   "source": [
    "import openai\n",
    "import pandas as pd\n",
    "import os\n",
    "import json"
   ]
  },
  {
   "cell_type": "code",
   "execution_count": 19,
   "metadata": {},
   "outputs": [],
   "source": [
    "openai.api_key = os.getenv(\"OPENAI_API_KEY\")"
   ]
  },
  {
   "cell_type": "code",
   "execution_count": 20,
   "metadata": {},
   "outputs": [],
   "source": [
    "prompt = '''Genera una pequeña descripcion de producto y un posible nonbre de compañia de acuerdo al input, la salida debe ser en un formato JSON\n",
    "ejemplo:\n",
    "###\n",
    "Input: auto\n",
    "output: 'Descripcion':'Auto electrico de color rojo, amigable con el medio ambiente'\n",
    " 'compañia': 'EcoCar'\n",
    "###\n",
    " \n",
    "input:{}\n",
    "output en formato JSON:\n",
    "'''"
   ]
  },
  {
   "cell_type": "code",
   "execution_count": 21,
   "metadata": {},
   "outputs": [],
   "source": [
    "def return_productos(product):\n",
    "    completion = openai.ChatCompletion.create(\n",
    "        model=\"gpt-4\",\n",
    "        messages=[\n",
    "            {\"role\": \"user\", \"content\": prompt.format(product)},\n",
    "        ]\n",
    "    )\n",
    "    return json.loads(completion.choices[0].message['content'])"
   ]
  },
  {
   "cell_type": "code",
   "execution_count": 22,
   "metadata": {},
   "outputs": [
    {
     "data": {
      "text/plain": [
       "{'Descripcion': 'Silla ergonómica ajustable de diseño moderno y cómodo',\n",
       " 'compañia': 'ComfySit'}"
      ]
     },
     "execution_count": 22,
     "metadata": {},
     "output_type": "execute_result"
    }
   ],
   "source": [
    "return_productos('silla')"
   ]
  },
  {
   "cell_type": "code",
   "execution_count": 23,
   "metadata": {},
   "outputs": [],
   "source": [
    "## Crea una lista de 10 productos de clases disintas \n",
    "\n",
    "productos = ['silla','mesa','computadora','celular','auto','casa','cama','libro','cuaderno','pluma']"
   ]
  },
  {
   "cell_type": "code",
   "execution_count": 24,
   "metadata": {},
   "outputs": [],
   "source": [
    "list_desc = []\n",
    "list_prod = []\n",
    "for _ in productos:\n",
    "    try:\n",
    "        list_desc.append(return_productos(_))\n",
    "        list_prod.append(_)\n",
    "    except:\n",
    "        None    "
   ]
  },
  {
   "cell_type": "code",
   "execution_count": 48,
   "metadata": {},
   "outputs": [],
   "source": [
    "df = pd.DataFrame({'producto':list_prod,'descripciones':list_desc})"
   ]
  },
  {
   "cell_type": "code",
   "execution_count": 49,
   "metadata": {},
   "outputs": [
    {
     "data": {
      "text/html": [
       "<div>\n",
       "<style scoped>\n",
       "    .dataframe tbody tr th:only-of-type {\n",
       "        vertical-align: middle;\n",
       "    }\n",
       "\n",
       "    .dataframe tbody tr th {\n",
       "        vertical-align: top;\n",
       "    }\n",
       "\n",
       "    .dataframe thead th {\n",
       "        text-align: right;\n",
       "    }\n",
       "</style>\n",
       "<table border=\"1\" class=\"dataframe\">\n",
       "  <thead>\n",
       "    <tr style=\"text-align: right;\">\n",
       "      <th></th>\n",
       "      <th>producto</th>\n",
       "      <th>descripciones</th>\n",
       "    </tr>\n",
       "  </thead>\n",
       "  <tbody>\n",
       "    <tr>\n",
       "      <th>0</th>\n",
       "      <td>silla</td>\n",
       "      <td>{'Descripcion': 'Silla ergonómica ajustable, d...</td>\n",
       "    </tr>\n",
       "    <tr>\n",
       "      <th>1</th>\n",
       "      <td>computadora</td>\n",
       "      <td>{'Descripcion': 'Computadora de alto rendimien...</td>\n",
       "    </tr>\n",
       "    <tr>\n",
       "      <th>2</th>\n",
       "      <td>celular</td>\n",
       "      <td>{'Descripcion': 'Celular inteligente de última...</td>\n",
       "    </tr>\n",
       "    <tr>\n",
       "      <th>3</th>\n",
       "      <td>auto</td>\n",
       "      <td>{'Descripcion': 'Auto eléctrico de última gene...</td>\n",
       "    </tr>\n",
       "    <tr>\n",
       "      <th>4</th>\n",
       "      <td>casa</td>\n",
       "      <td>{'Descripcion': 'Casa moderna, amueblada y con...</td>\n",
       "    </tr>\n",
       "    <tr>\n",
       "      <th>5</th>\n",
       "      <td>cama</td>\n",
       "      <td>{'Descripcion': 'Cama ergonómica con tecnologí...</td>\n",
       "    </tr>\n",
       "    <tr>\n",
       "      <th>6</th>\n",
       "      <td>libro</td>\n",
       "      <td>{'Descripcion': 'Libro de aventuras y fantasía...</td>\n",
       "    </tr>\n",
       "    <tr>\n",
       "      <th>7</th>\n",
       "      <td>cuaderno</td>\n",
       "      <td>{'Descripcion': 'Cuaderno ecológico de tapa du...</td>\n",
       "    </tr>\n",
       "    <tr>\n",
       "      <th>8</th>\n",
       "      <td>pluma</td>\n",
       "      <td>{'Descripcion': 'Pluma estilográfica de punta ...</td>\n",
       "    </tr>\n",
       "  </tbody>\n",
       "</table>\n",
       "</div>"
      ],
      "text/plain": [
       "      producto                                      descripciones\n",
       "0        silla  {'Descripcion': 'Silla ergonómica ajustable, d...\n",
       "1  computadora  {'Descripcion': 'Computadora de alto rendimien...\n",
       "2      celular  {'Descripcion': 'Celular inteligente de última...\n",
       "3         auto  {'Descripcion': 'Auto eléctrico de última gene...\n",
       "4         casa  {'Descripcion': 'Casa moderna, amueblada y con...\n",
       "5         cama  {'Descripcion': 'Cama ergonómica con tecnologí...\n",
       "6        libro  {'Descripcion': 'Libro de aventuras y fantasía...\n",
       "7     cuaderno  {'Descripcion': 'Cuaderno ecológico de tapa du...\n",
       "8        pluma  {'Descripcion': 'Pluma estilográfica de punta ..."
      ]
     },
     "execution_count": 49,
     "metadata": {},
     "output_type": "execute_result"
    }
   ],
   "source": [
    "df"
   ]
  },
  {
   "cell_type": "code",
   "execution_count": 50,
   "metadata": {},
   "outputs": [],
   "source": [
    "def split_json(df):\n",
    "    df['Descripcion'] = df['descripciones'].apply(lambda x: x.get('Descripcion', ''))\n",
    "    df['compañia'] = df['descripciones'].apply(lambda x: x.get('compañia', ''))\n",
    "    df.drop(columns=['descripciones'], inplace=True)\n",
    "    return df\n",
    "\n",
    "df = split_json(df)\n"
   ]
  },
  {
   "cell_type": "code",
   "execution_count": 51,
   "metadata": {},
   "outputs": [
    {
     "data": {
      "text/html": [
       "<div>\n",
       "<style scoped>\n",
       "    .dataframe tbody tr th:only-of-type {\n",
       "        vertical-align: middle;\n",
       "    }\n",
       "\n",
       "    .dataframe tbody tr th {\n",
       "        vertical-align: top;\n",
       "    }\n",
       "\n",
       "    .dataframe thead th {\n",
       "        text-align: right;\n",
       "    }\n",
       "</style>\n",
       "<table border=\"1\" class=\"dataframe\">\n",
       "  <thead>\n",
       "    <tr style=\"text-align: right;\">\n",
       "      <th></th>\n",
       "      <th>producto</th>\n",
       "      <th>Descripcion</th>\n",
       "      <th>compañia</th>\n",
       "    </tr>\n",
       "  </thead>\n",
       "  <tbody>\n",
       "    <tr>\n",
       "      <th>0</th>\n",
       "      <td>silla</td>\n",
       "      <td>Silla ergonómica ajustable, diseñada para brin...</td>\n",
       "      <td>ComfySit</td>\n",
       "    </tr>\n",
       "    <tr>\n",
       "      <th>1</th>\n",
       "      <td>computadora</td>\n",
       "      <td>Computadora de alto rendimiento con procesador...</td>\n",
       "      <td>TechFlow</td>\n",
       "    </tr>\n",
       "    <tr>\n",
       "      <th>2</th>\n",
       "      <td>celular</td>\n",
       "      <td>Celular inteligente de última generación con p...</td>\n",
       "      <td>SmartLink</td>\n",
       "    </tr>\n",
       "    <tr>\n",
       "      <th>3</th>\n",
       "      <td>auto</td>\n",
       "      <td>Auto eléctrico de última generación con tecnol...</td>\n",
       "      <td>ElectroDrive</td>\n",
       "    </tr>\n",
       "    <tr>\n",
       "      <th>4</th>\n",
       "      <td>casa</td>\n",
       "      <td>Casa moderna, amueblada y con paneles solares ...</td>\n",
       "      <td>EcoHomes</td>\n",
       "    </tr>\n",
       "    <tr>\n",
       "      <th>5</th>\n",
       "      <td>cama</td>\n",
       "      <td>Cama ergonómica con tecnología de ortopedia aj...</td>\n",
       "      <td>SueñoPerfecto</td>\n",
       "    </tr>\n",
       "    <tr>\n",
       "      <th>6</th>\n",
       "      <td>libro</td>\n",
       "      <td>Libro de aventuras y fantasía, ideal para sume...</td>\n",
       "      <td></td>\n",
       "    </tr>\n",
       "    <tr>\n",
       "      <th>7</th>\n",
       "      <td>cuaderno</td>\n",
       "      <td>Cuaderno ecológico de tapa dura, 100 hojas de ...</td>\n",
       "      <td>EcoNotes</td>\n",
       "    </tr>\n",
       "    <tr>\n",
       "      <th>8</th>\n",
       "      <td>pluma</td>\n",
       "      <td>Pluma estilográfica de punta fina, perfecta pa...</td>\n",
       "      <td>ElegantWrite</td>\n",
       "    </tr>\n",
       "  </tbody>\n",
       "</table>\n",
       "</div>"
      ],
      "text/plain": [
       "      producto                                        Descripcion  \\\n",
       "0        silla  Silla ergonómica ajustable, diseñada para brin...   \n",
       "1  computadora  Computadora de alto rendimiento con procesador...   \n",
       "2      celular  Celular inteligente de última generación con p...   \n",
       "3         auto  Auto eléctrico de última generación con tecnol...   \n",
       "4         casa  Casa moderna, amueblada y con paneles solares ...   \n",
       "5         cama  Cama ergonómica con tecnología de ortopedia aj...   \n",
       "6        libro  Libro de aventuras y fantasía, ideal para sume...   \n",
       "7     cuaderno  Cuaderno ecológico de tapa dura, 100 hojas de ...   \n",
       "8        pluma  Pluma estilográfica de punta fina, perfecta pa...   \n",
       "\n",
       "        compañia  \n",
       "0       ComfySit  \n",
       "1       TechFlow  \n",
       "2      SmartLink  \n",
       "3   ElectroDrive  \n",
       "4       EcoHomes  \n",
       "5  SueñoPerfecto  \n",
       "6                 \n",
       "7       EcoNotes  \n",
       "8   ElegantWrite  "
      ]
     },
     "execution_count": 51,
     "metadata": {},
     "output_type": "execute_result"
    }
   ],
   "source": [
    "df"
   ]
  }
 ],
 "metadata": {
  "kernelspec": {
   "display_name": "workspace",
   "language": "python",
   "name": "python3"
  },
  "language_info": {
   "codemirror_mode": {
    "name": "ipython",
    "version": 3
   },
   "file_extension": ".py",
   "mimetype": "text/x-python",
   "name": "python",
   "nbconvert_exporter": "python",
   "pygments_lexer": "ipython3",
   "version": "3.9.13"
  },
  "orig_nbformat": 4
 },
 "nbformat": 4,
 "nbformat_minor": 2
}
